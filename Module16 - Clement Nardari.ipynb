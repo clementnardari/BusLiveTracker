{
 "cells": [
  {
   "cell_type": "markdown",
   "id": "68da75b8",
   "metadata": {},
   "source": [
    "<h1>Module 16 Project Clement Nardari</h1>"
   ]
  },
  {
   "cell_type": "markdown",
   "id": "e5ebffee",
   "metadata": {},
   "source": [
    "Use the code below to help you analyze the data returned by the MBTA API:"
   ]
  },
  {
   "cell_type": "code",
   "execution_count": 30,
   "id": "45d61814",
   "metadata": {},
   "outputs": [],
   "source": [
    "import os\n",
    "import urllib.request, json\n",
    "from datetime import datetime\n",
    "import pymysql\n",
    "import pandas as pd\n",
    "from scipy.interpolate import interp1d\n",
    "import numpy as np\n",
    "import matplotlib.pyplot as plt\n",
    "import seaborn as sns\n",
    "from haversine import haversine, Unit"
   ]
  },
  {
   "cell_type": "code",
   "execution_count": 31,
   "id": "abd19a57",
   "metadata": {},
   "outputs": [],
   "source": [
    "mbtaURL = \"https://api-v3.mbta.com/vehicles?filter[route]=1&include=trip\"\n",
    "\n",
    "\n",
    "with urllib.request.urlopen(mbtaURL) as url:\n",
    "    data = json.loads(url.read().decode())\n",
    "   \n",
    "    with open('data.json', 'w') as outfile:\n",
    "        json.dump(data, outfile)\n",
    "   \n",
    "    with open('data.txt', 'w') as outfile:\n",
    "        json.dump(json.dumps(data, indent=4, sort_keys=True), outfile)\n",
    "       \n",
    "    #print(json.dumps(data, indent=4, sort_keys=True))\n"
   ]
  },
  {
   "cell_type": "markdown",
   "id": "d46c6b63",
   "metadata": {},
   "source": [
    "Use the code below to read the data from your MySQL database and store it in a pandas dataframe.  \n",
    "\n",
    "You you need to install pymysql to run the code:\n",
    "\n",
    "pip install pymysql"
   ]
  },
  {
   "cell_type": "code",
   "execution_count": 33,
   "id": "70d14e5a",
   "metadata": {},
   "outputs": [
    {
     "data": {
      "text/html": [
       "<div>\n",
       "<style scoped>\n",
       "    .dataframe tbody tr th:only-of-type {\n",
       "        vertical-align: middle;\n",
       "    }\n",
       "\n",
       "    .dataframe tbody tr th {\n",
       "        vertical-align: top;\n",
       "    }\n",
       "\n",
       "    .dataframe thead th {\n",
       "        text-align: right;\n",
       "    }\n",
       "</style>\n",
       "<table border=\"1\" class=\"dataframe\">\n",
       "  <thead>\n",
       "    <tr style=\"text-align: right;\">\n",
       "      <th></th>\n",
       "      <th>record_num</th>\n",
       "      <th>id</th>\n",
       "      <th>latitude</th>\n",
       "      <th>longitude</th>\n",
       "      <th>direction_id</th>\n",
       "      <th>current_stop_sequence</th>\n",
       "      <th>label</th>\n",
       "      <th>speed</th>\n",
       "      <th>trip_id</th>\n",
       "      <th>stop_id</th>\n",
       "      <th>bus_bearing</th>\n",
       "      <th>occupancy_status</th>\n",
       "      <th>current_status</th>\n",
       "      <th>updated_at</th>\n",
       "    </tr>\n",
       "  </thead>\n",
       "  <tbody>\n",
       "    <tr>\n",
       "      <th>0</th>\n",
       "      <td>1</td>\n",
       "      <td>y1923</td>\n",
       "      <td>42.352740</td>\n",
       "      <td>-71.090408</td>\n",
       "      <td>1</td>\n",
       "      <td>11.0</td>\n",
       "      <td>1923</td>\n",
       "      <td>None</td>\n",
       "      <td>52110816</td>\n",
       "      <td>None</td>\n",
       "      <td>159</td>\n",
       "      <td>FULL</td>\n",
       "      <td>IN_TRANSIT_TO</td>\n",
       "      <td>2022-08-10T18:07:07-04:00</td>\n",
       "    </tr>\n",
       "    <tr>\n",
       "      <th>1</th>\n",
       "      <td>2</td>\n",
       "      <td>y1857</td>\n",
       "      <td>42.331279</td>\n",
       "      <td>-71.077037</td>\n",
       "      <td>0</td>\n",
       "      <td>5.0</td>\n",
       "      <td>1857</td>\n",
       "      <td>None</td>\n",
       "      <td>52110882</td>\n",
       "      <td>None</td>\n",
       "      <td>110</td>\n",
       "      <td>MANY_SEATS_AVAILABLE</td>\n",
       "      <td>IN_TRANSIT_TO</td>\n",
       "      <td>2022-08-10T18:07:11-04:00</td>\n",
       "    </tr>\n",
       "    <tr>\n",
       "      <th>2</th>\n",
       "      <td>3</td>\n",
       "      <td>y1847</td>\n",
       "      <td>42.346760</td>\n",
       "      <td>-71.087410</td>\n",
       "      <td>1</td>\n",
       "      <td>12.0</td>\n",
       "      <td>1847</td>\n",
       "      <td>None</td>\n",
       "      <td>52111045</td>\n",
       "      <td>None</td>\n",
       "      <td>167</td>\n",
       "      <td>FEW_SEATS_AVAILABLE</td>\n",
       "      <td>IN_TRANSIT_TO</td>\n",
       "      <td>2022-08-10T18:07:12-04:00</td>\n",
       "    </tr>\n",
       "    <tr>\n",
       "      <th>3</th>\n",
       "      <td>4</td>\n",
       "      <td>y1834</td>\n",
       "      <td>42.373212</td>\n",
       "      <td>-71.117565</td>\n",
       "      <td>0</td>\n",
       "      <td>1.0</td>\n",
       "      <td>1834</td>\n",
       "      <td>None</td>\n",
       "      <td>52110945</td>\n",
       "      <td>None</td>\n",
       "      <td>0</td>\n",
       "      <td>MANY_SEATS_AVAILABLE</td>\n",
       "      <td>IN_TRANSIT_TO</td>\n",
       "      <td>2022-08-10T18:07:01-04:00</td>\n",
       "    </tr>\n",
       "  </tbody>\n",
       "</table>\n",
       "</div>"
      ],
      "text/plain": [
       "   record_num     id   latitude  longitude  direction_id  \\\n",
       "0           1  y1923  42.352740 -71.090408             1   \n",
       "1           2  y1857  42.331279 -71.077037             0   \n",
       "2           3  y1847  42.346760 -71.087410             1   \n",
       "3           4  y1834  42.373212 -71.117565             0   \n",
       "\n",
       "   current_stop_sequence  label speed   trip_id stop_id  bus_bearing  \\\n",
       "0                   11.0   1923  None  52110816    None          159   \n",
       "1                    5.0   1857  None  52110882    None          110   \n",
       "2                   12.0   1847  None  52111045    None          167   \n",
       "3                    1.0   1834  None  52110945    None            0   \n",
       "\n",
       "       occupancy_status current_status                 updated_at  \n",
       "0                  FULL  IN_TRANSIT_TO  2022-08-10T18:07:07-04:00  \n",
       "1  MANY_SEATS_AVAILABLE  IN_TRANSIT_TO  2022-08-10T18:07:11-04:00  \n",
       "2   FEW_SEATS_AVAILABLE  IN_TRANSIT_TO  2022-08-10T18:07:12-04:00  \n",
       "3  MANY_SEATS_AVAILABLE  IN_TRANSIT_TO  2022-08-10T18:07:01-04:00  "
      ]
     },
     "execution_count": 33,
     "metadata": {},
     "output_type": "execute_result"
    }
   ],
   "source": [
    "#query the data from the sql db and store it in a data frame\n",
    "host = '127.0.0.1'\n",
    "port = '3306'\n",
    "user = 'root'\n",
    "password = 'MyNewPass'\n",
    "database = 'MBTAdb'\n",
    "\n",
    "conn = pymysql.connect(\n",
    "    host=host,\n",
    "    port=int(3306),\n",
    "    user=\"root\",\n",
    "    passwd=password,\n",
    "    db=database,\n",
    "    charset='utf8mb4')\n",
    "\n",
    "df = pd.read_sql_query(\"SELECT * FROM mbta_buses\",\n",
    "    conn)\n",
    "df.head(4)"
   ]
  },
  {
   "cell_type": "markdown",
   "id": "07d29ae0",
   "metadata": {},
   "source": [
    "\n",
    "The code below saves the data as a csv file to the local directory as a backup."
   ]
  },
  {
   "cell_type": "code",
   "execution_count": 19,
   "id": "d587ea03",
   "metadata": {},
   "outputs": [],
   "source": [
    "#export the data frame in a csv format\n",
    "df.to_csv('mbta.csv')"
   ]
  },
  {
   "cell_type": "markdown",
   "id": "ae484f5d",
   "metadata": {},
   "source": [
    "<h1>What is the average time it takes for a bus to complete the route</h1>\n"
   ]
  },
  {
   "cell_type": "code",
   "execution_count": 20,
   "id": "f918bd76",
   "metadata": {},
   "outputs": [],
   "source": [
    "#Compute distance from stop 1 to stop 24\n",
    "Stop_1=(42.37305838, -71.11755962)\n",
    "Stop_24=(42.32980513, -71.08425965)\n",
    "\n",
    "dist=haversine(Stop_1, Stop_24) # in km"
   ]
  },
  {
   "cell_type": "code",
   "execution_count": 26,
   "id": "3601d26b",
   "metadata": {},
   "outputs": [
    {
     "name": "stdout",
     "output_type": "stream",
     "text": [
      "<class 'pandas.core.frame.DataFrame'>\n",
      "RangeIndex: 2486 entries, 0 to 2485\n",
      "Data columns (total 15 columns):\n",
      " #   Column                 Non-Null Count  Dtype  \n",
      "---  ------                 --------------  -----  \n",
      " 0   Unnamed: 0             2486 non-null   int64  \n",
      " 1   record_num             2486 non-null   int64  \n",
      " 2   id                     2486 non-null   object \n",
      " 3   latitude               2486 non-null   float64\n",
      " 4   longitude              2486 non-null   float64\n",
      " 5   direction_id           2486 non-null   int64  \n",
      " 6   current_stop_sequence  2379 non-null   float64\n",
      " 7   label                  2486 non-null   int64  \n",
      " 8   speed                  0 non-null      float64\n",
      " 9   trip_id                2486 non-null   int64  \n",
      " 10  stop_id                0 non-null      float64\n",
      " 11  bus_bearing            2486 non-null   int64  \n",
      " 12  occupancy_status       2484 non-null   object \n",
      " 13  current_status         2486 non-null   object \n",
      " 14  updated_at             2486 non-null   object \n",
      "dtypes: float64(5), int64(6), object(4)\n",
      "memory usage: 291.5+ KB\n"
     ]
    }
   ],
   "source": [
    "#Read db (stored in .csv as backup from sql db container)\n",
    "df=pd.read_csv('mbta.csv')\n",
    "df.info()"
   ]
  },
  {
   "cell_type": "code",
   "execution_count": 27,
   "id": "759ee50a",
   "metadata": {},
   "outputs": [
    {
     "data": {
      "text/html": [
       "<div>\n",
       "<style scoped>\n",
       "    .dataframe tbody tr th:only-of-type {\n",
       "        vertical-align: middle;\n",
       "    }\n",
       "\n",
       "    .dataframe tbody tr th {\n",
       "        vertical-align: top;\n",
       "    }\n",
       "\n",
       "    .dataframe thead th {\n",
       "        text-align: right;\n",
       "    }\n",
       "</style>\n",
       "<table border=\"1\" class=\"dataframe\">\n",
       "  <thead>\n",
       "    <tr style=\"text-align: right;\">\n",
       "      <th></th>\n",
       "      <th>id</th>\n",
       "      <th>direction_id</th>\n",
       "      <th>start</th>\n",
       "      <th>end</th>\n",
       "      <th>total_time</th>\n",
       "      <th>AVG_speed</th>\n",
       "    </tr>\n",
       "  </thead>\n",
       "  <tbody>\n",
       "  </tbody>\n",
       "</table>\n",
       "</div>"
      ],
      "text/plain": [
       "Empty DataFrame\n",
       "Columns: [id, direction_id, start, end, total_time, AVG_speed]\n",
       "Index: []"
      ]
     },
     "execution_count": 27,
     "metadata": {},
     "output_type": "execute_result"
    }
   ],
   "source": [
    "#function to tabulate direction id, trip id, start time, en time (first stop, last stop), trip time, avg speed\n",
    "def trip_info(df,dist):\n",
    "    #initialize data frame\n",
    "    trips=pd.DataFrame(columns=['id', 'direction_id', 'start', 'end', 'total_time', 'AVG_speed'])\n",
    "    #Format for datetime srat and end column\n",
    "    FMT=\"%Y-%m-%dT%H:%M:%S%z\"  \n",
    "    #For loop looping through trip_id and finding start time and end time \n",
    "    for trip in df['trip_id'].sort_values().drop_duplicates():\n",
    "        direction=df[(df['trip_id']==trip)]['direction_id'].iloc[0]\n",
    "        #sort value to find the first time stamp\n",
    "        sorted_trip=df[(df['trip_id']==trip) & (df['current_stop_sequence']==2)].sort_values('updated_at')\n",
    "\n",
    "        if len(sorted_trip['updated_at'])>=1:\n",
    "            start_time=sorted_trip['updated_at'].iloc[0]\n",
    "            start_time_formated=datetime.strptime(start_time, FMT)\n",
    "        else:\n",
    "            start_time=None\n",
    "        #sort value to find the first time stamp\n",
    "        sorted_trip=df[(df['trip_id']==trip) & (df['current_stop_sequence']==24)].sort_values('updated_at')\n",
    "\n",
    "        if len(sorted_trip['updated_at'])>=1:\n",
    "            end_time=sorted_trip['updated_at'].iloc[0]\n",
    "            end_time_formated=datetime.strptime(end_time, FMT)\n",
    "        else:\n",
    "            end_time=None\n",
    "        #compute delta t and avg speed only when start and end exist\n",
    "        if start_time!=None and end_time!=None:\n",
    "\n",
    "            delta_t=end_time_formated-start_time_formated\n",
    "            if delta_t.total_seconds()<=0:\n",
    "                delta_t=None\n",
    "                speed=None\n",
    "            else:\n",
    "                delta_t=delta_t.total_seconds()/60\n",
    "                speed=dist/delta_t*60\n",
    "        else:\n",
    "            delta_t=None\n",
    "            speed=None\n",
    "        #populate trips\n",
    "        temp={'id':trip, 'direction_id':direction ,'start':start_time, 'end':end_time,'total_time':delta_t, 'AVG_speed':speed}\n",
    "        trips=trips.append(temp, ignore_index=True)\n",
    "    #drop na\n",
    "    trips.dropna(inplace=True)\n",
    "    #format time\n",
    "    trips[\"start\"] = pd.to_datetime(trips[\"start\"], yearfirst=True, errors='coerce', dayfirst=False, format=FMT)\n",
    "    trips[\"end\"] = pd.to_datetime(trips[\"end\"], yearfirst=True, errors='coerce', dayfirst=False, format=FMT)\n",
    "    #return for monday only\n",
    "    return trips[trips['end'].dt.dayofweek==1]\n",
    "test=trip_info(df,20)\n",
    "test.tail(5)"
   ]
  },
  {
   "cell_type": "code",
   "execution_count": 23,
   "id": "9ec892a8",
   "metadata": {},
   "outputs": [
    {
     "data": {
      "text/plain": [
       "nan"
      ]
     },
     "execution_count": 23,
     "metadata": {},
     "output_type": "execute_result"
    }
   ],
   "source": [
    "test['AVG_speed'].mean() #average trip time both direction"
   ]
  },
  {
   "cell_type": "code",
   "execution_count": 24,
   "id": "666dca3d",
   "metadata": {},
   "outputs": [
    {
     "data": {
      "text/plain": [
       "nan"
      ]
     },
     "execution_count": 24,
     "metadata": {},
     "output_type": "execute_result"
    }
   ],
   "source": [
    "test[test['direction_id']==1]['AVG_speed'].mean() #average trip time direction 1"
   ]
  },
  {
   "cell_type": "code",
   "execution_count": 25,
   "id": "9856e233",
   "metadata": {},
   "outputs": [
    {
     "data": {
      "text/plain": [
       "nan"
      ]
     },
     "execution_count": 25,
     "metadata": {},
     "output_type": "execute_result"
    }
   ],
   "source": [
    "test[test['direction_id']==0]['AVG_speed'].mean() #average trip time direction 2"
   ]
  },
  {
   "cell_type": "markdown",
   "id": "019493b9",
   "metadata": {},
   "source": [
    "<h1>Provide a Visualization based on the data</h1>"
   ]
  },
  {
   "cell_type": "code",
   "execution_count": 10,
   "id": "f1efaf70",
   "metadata": {},
   "outputs": [],
   "source": [
    "#group data by hour of the day \n",
    "test['start']=test['start'].dt.hour\n",
    "dir1=pd.pivot_table(test[test['direction_id']==1],index='start',values='total_time',aggfunc=np.mean)\n",
    "dir0=pd.pivot_table(test[test['direction_id']==0],index='start',values='total_time',aggfunc=np.mean)\n"
   ]
  },
  {
   "cell_type": "code",
   "execution_count": 13,
   "id": "d4ad89c8",
   "metadata": {},
   "outputs": [
    {
     "name": "stdout",
     "output_type": "stream",
     "text": [
      "(10,)\n",
      "(10,)\n"
     ]
    },
    {
     "data": {
      "image/png": "[encoded data removed]",
      "text/plain": [
       "<Figure size 432x288 with 1 Axes>"
      ]
     },
     "metadata": {
      "needs_background": "light"
     },
     "output_type": "display_data"
    }
   ],
   "source": [
    "#Plot for each direction total time function of start time\n",
    "x0 = np.array(dir0.index)\n",
    "x1 = np.array(dir1.index)\n",
    "y0 = np.array(dir0.values).squeeze()\n",
    "y1 = np.array(dir1.values).squeeze()\n",
    "\n",
    "print(x0.shape)\n",
    "print(y0.shape)\n",
    "f0 = interp1d(x0, y0, kind='cubic')\n",
    "f1 = interp1d(x1, y1, kind='cubic')\n",
    "xnew = np.linspace(8, 17, num=20, endpoint=True)\n",
    "\n",
    "plt.plot(x0, y0, '+', x1, y1, '*', xnew , f0(xnew), '-', xnew , f1(xnew), '--')\n",
    "plt.legend(['Direction 0', 'Direction 1', 'Interpolation 0', 'Interpolation 1'], loc='best')\n",
    "plt.xlabel('hour of the day [hour]')\n",
    "plt.ylabel('AVG Trip Time [minute]')\n",
    "plt.title('AVG Trip Time')\n",
    "plt.show()"
   ]
  },
  {
   "cell_type": "code",
   "execution_count": 9,
   "id": "d6659e51",
   "metadata": {},
   "outputs": [
    {
     "data": {
      "text/plain": [
       "<AxesSubplot:xlabel='start', ylabel='total_time'>"
      ]
     },
     "execution_count": 9,
     "metadata": {},
     "output_type": "execute_result"
    },
    {
     "data": {
      "image/png": "[encoded data removed]",
      "text/plain": [
       "<Figure size 432x288 with 1 Axes>"
      ]
     },
     "metadata": {
      "needs_background": "light"
     },
     "output_type": "display_data"
    }
   ],
   "source": [
    "#Plot for each direction total time function of start time\n",
    "sns.scatterplot(x=test['start'],y=test['total_time'],hue=test['direction_id'],palette='YlGnBu')\n"
   ]
  },
  {
   "cell_type": "markdown",
   "id": "1499d640",
   "metadata": {},
   "source": [
    "<h1>Give an estimate of the speed of the bus from current_stop_sequence = 1 to the last  current_stop_sequence. </h1> \n",
    "\n",
    "Note: You can use the haversine Python library to calculate the distance between two points, given two longitude and latitude coordinates."
   ]
  },
  {
   "cell_type": "code",
   "execution_count": 13,
   "id": "b85590e4",
   "metadata": {},
   "outputs": [],
   "source": [
    "#group data by hour of the day \n",
    "test['start']=test['start'].dt.hour\n",
    "dir1=pd.pivot_table(test[test['direction_id']==1],index='start',values='AVG_speed',aggfunc=np.mean)\n",
    "dir0=pd.pivot_table(test[test['direction_id']==0],index='start',values='AVG_speed',aggfunc=np.mean)"
   ]
  },
  {
   "cell_type": "code",
   "execution_count": 15,
   "id": "b4778c8a",
   "metadata": {},
   "outputs": [
    {
     "data": {
      "image/png": "[encoded data removed]",
      "text/plain": [
       "<Figure size 432x288 with 1 Axes>"
      ]
     },
     "metadata": {
      "needs_background": "light"
     },
     "output_type": "display_data"
    }
   ],
   "source": [
    "#Plot for each direction AVG speed function of start time\n",
    "x0 = np.array(dir0.index)\n",
    "x1 = np.array(dir1.index)\n",
    "y0 = np.array(dir0.values).squeeze()\n",
    "y1 = np.array(dir1.values).squeeze()\n",
    "\n",
    "f0 = interp1d(x0, y0, kind='cubic')\n",
    "f1 = interp1d(x1, y1, kind='cubic')\n",
    "xnew = np.linspace(8, 17, num=20, endpoint=True)\n",
    "\n",
    "plt.plot(x0, y0, '+', x1, y1, '*', xnew , f0(xnew), '-', xnew , f1(xnew), '--')\n",
    "plt.legend(['Direction 0', 'Direction 1', 'Interpolation 0', 'Interpolation 1'], loc='best')\n",
    "plt.xlabel('hour of the day [hour]')\n",
    "plt.ylabel('AVG Trip speed [km/h]')\n",
    "plt.title('AVG Trip Speed')\n",
    "plt.show()"
   ]
  },
  {
   "cell_type": "code",
   "execution_count": null,
   "id": "a81b6079",
   "metadata": {},
   "outputs": [],
   "source": []
  },
  {
   "cell_type": "code",
   "execution_count": null,
   "id": "6235514f",
   "metadata": {},
   "outputs": [],
   "source": []
  }
 ],
 "metadata": {
  "kernelspec": {
   "display_name": "Python 3 (ipykernel)",
   "language": "python",
   "name": "python3"
  },
  "language_info": {
   "codemirror_mode": {
    "name": "ipython",
    "version": 3
   },
   "file_extension": ".py",
   "mimetype": "text/x-python",
   "name": "python",
   "nbconvert_exporter": "python",
   "pygments_lexer": "ipython3",
   "version": "3.9.7"
  }
 },
 "nbformat": 4,
 "nbformat_minor": 5
}
